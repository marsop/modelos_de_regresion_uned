{
  "nbformat": 4,
  "nbformat_minor": 0,
  "metadata": {
    "colab": {
      "name": "ejemplo_2_1.ipynb",
      "version": "0.3.2",
      "provenance": [],
      "collapsed_sections": [],
      "include_colab_link": true
    },
    "kernelspec": {
      "name": "python3",
      "display_name": "Python 3"
    }
  },
  "cells": [
    {
      "cell_type": "markdown",
      "metadata": {
        "id": "view-in-github",
        "colab_type": "text"
      },
      "source": [
        "<a href=\"https://colab.research.google.com/github/marsop/modelos_de_regresion_uned/blob/master/ejemplo_2_1.ipynb\" target=\"_parent\"><img src=\"https://colab.research.google.com/assets/colab-badge.svg\" alt=\"Open In Colab\"/></a>"
      ]
    },
    {
      "cell_type": "markdown",
      "metadata": {
        "id": "6WFmhGhrd6z0",
        "colab_type": "text"
      },
      "source": [
        "# Ejemplo 2.1"
      ]
    },
    {
      "cell_type": "code",
      "metadata": {
        "id": "PM4QdGn9fHuQ",
        "colab_type": "code",
        "colab": {}
      },
      "source": [
        "import pandas as pd\n",
        "import numpy as np"
      ],
      "execution_count": 0,
      "outputs": []
    },
    {
      "cell_type": "markdown",
      "metadata": {
        "id": "7DR3rXXHfPQK",
        "colab_type": "text"
      },
      "source": [
        "Los datos necesarios para este ejemplo se tomarán de:\n",
        "\n",
        "```\n",
        "3metodos.dat\n",
        "```"
      ]
    },
    {
      "cell_type": "code",
      "metadata": {
        "id": "EPxTtjhKfB35",
        "colab_type": "code",
        "colab": {
          "base_uri": "https://localhost:8080/",
          "height": 119
        },
        "outputId": "8c7ca658-a322-4e4d-be32-6de2d658fffe"
      },
      "source": [
        "input_file = '3metodos.dat'\n",
        "path_to_file = 'https://raw.githubusercontent.com/marsop/modelos_de_regresion_uned/master/ficheros/'\n",
        "header_names = [ 'metodo_a', 'metodo_b', 'metodo_c']\n",
        "train = pd.read_csv(path_to_file + input_file, header=None, names=header_names, sep='\\t')\n",
        "print(train)"
      ],
      "execution_count": 13,
      "outputs": [
        {
          "output_type": "stream",
          "text": [
            "   metodo_a  metodo_b  metodo_c\n",
            "0        16        27        61\n",
            "1        14        30        33\n",
            "2        42        26        37\n",
            "3        38        20        63\n",
            "4        23        76        65\n"
          ],
          "name": "stdout"
        }
      ]
    },
    {
      "cell_type": "markdown",
      "metadata": {
        "id": "DnpqC_qjhOoC",
        "colab_type": "text"
      },
      "source": [
        "## Análisis\n",
        "\n",
        "En nuestro caso, dado que todos los grupos tienen exactamente el mismo número de elementos tenemos que:\n",
        "\n",
        "$$\n",
        "n_1 = n_2 = n_3 = I\n",
        "$$\n",
        "\n",
        "\n",
        "### Media (por grupo) $$ \\bar{y}_{i.} = \\sum_{j=1}^{I}{y_{ij}} $$"
      ]
    },
    {
      "cell_type": "code",
      "metadata": {
        "id": "ifS3iWMsh8Wm",
        "colab_type": "code",
        "colab": {
          "base_uri": "https://localhost:8080/",
          "height": 85
        },
        "outputId": "ad4b846d-1af3-46ee-c613-0c7f0d782325"
      },
      "source": [
        "medias_observadas_por_grupo = train.mean()\n",
        "medias_observadas_por_grupo"
      ],
      "execution_count": 26,
      "outputs": [
        {
          "output_type": "execute_result",
          "data": {
            "text/plain": [
              "metodo_a    26.6\n",
              "metodo_b    35.8\n",
              "metodo_c    51.8\n",
              "dtype: float64"
            ]
          },
          "metadata": {
            "tags": []
          },
          "execution_count": 26
        }
      ]
    },
    {
      "cell_type": "markdown",
      "metadata": {
        "id": "TvxQi0G4jUNw",
        "colab_type": "text"
      },
      "source": [
        "### Desviacion típica (por grupo) \n",
        "\n",
        "$$\n",
        "\\hat{s}_i = \\sum_{j=1}^{n_j}{ (y_{ij}-y_{i.})^2 \\over{n_j} } = \\sum_{j=1}^{I}{ (y_{ij}-y_{i.})^2 \\over{I} }\n",
        "$$"
      ]
    },
    {
      "cell_type": "code",
      "metadata": {
        "id": "UU2kPY90imAV",
        "colab_type": "code",
        "colab": {
          "base_uri": "https://localhost:8080/",
          "height": 85
        },
        "outputId": "28137d22-f889-4ace-87f9-48472b601a3f"
      },
      "source": [
        "desviacion_tipica_por_grupo = train.std()\n",
        "desviacion_tipica_por_grupo"
      ],
      "execution_count": 22,
      "outputs": [
        {
          "output_type": "execute_result",
          "data": {
            "text/plain": [
              "metodo_a    12.759310\n",
              "metodo_b    22.764007\n",
              "metodo_c    15.466092\n",
              "dtype: float64"
            ]
          },
          "metadata": {
            "tags": []
          },
          "execution_count": 22
        }
      ]
    },
    {
      "cell_type": "markdown",
      "metadata": {
        "id": "czFZTDCzjeiW",
        "colab_type": "text"
      },
      "source": [
        "### Desviación típica residual $\\hat{S}_R$"
      ]
    },
    {
      "cell_type": "code",
      "metadata": {
        "id": "x7dKWjuqjpJ1",
        "colab_type": "code",
        "colab": {}
      },
      "source": [
        "train."
      ],
      "execution_count": 0,
      "outputs": []
    }
  ]
}